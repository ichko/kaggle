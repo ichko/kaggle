{
 "cells": [
  {
   "cell_type": "code",
   "execution_count": 1,
   "id": "24455602",
   "metadata": {},
   "outputs": [],
   "source": [
    "%load_ext autoreload\n",
    "%autoreload 2"
   ]
  },
  {
   "cell_type": "code",
   "execution_count": 13,
   "id": "7fc7e214",
   "metadata": {},
   "outputs": [],
   "source": [
    "from mebe.data import SequencesDataModule, SequencesDataset\n",
    "import numpy as np"
   ]
  },
  {
   "cell_type": "code",
   "execution_count": 7,
   "id": "59c728e3",
   "metadata": {},
   "outputs": [],
   "source": [
    "data = SequencesDataset.TEST"
   ]
  },
  {
   "cell_type": "code",
   "execution_count": 88,
   "id": "bd9fcad2",
   "metadata": {},
   "outputs": [
    {
     "data": {
      "text/plain": [
       "(4500, 11, 48)"
      ]
     },
     "execution_count": 88,
     "metadata": {},
     "output_type": "execute_result"
    }
   ],
   "source": [
    "seqs = np.array(\n",
    "    [s['keypoints'].reshape(-1, 11, 24 * 2) for s in data['sequences'].values()]\n",
    ")\n",
    "seq = seqs[0]\n",
    "seq.shape"
   ]
  },
  {
   "cell_type": "code",
   "execution_count": 89,
   "id": "c7c3b7db",
   "metadata": {},
   "outputs": [
    {
     "data": {
      "text/plain": [
       "4500"
      ]
     },
     "execution_count": 89,
     "metadata": {},
     "output_type": "execute_result"
    }
   ],
   "source": [
    "np.sum(np.isnan(seqs[1])) // 48"
   ]
  },
  {
   "cell_type": "code",
   "execution_count": 92,
   "id": "a74db8ec",
   "metadata": {},
   "outputs": [
    {
     "data": {
      "text/plain": [
       "array([False, False, False, False, False, False, False, False, False,\n",
       "       False,  True])"
      ]
     },
     "execution_count": 92,
     "metadata": {},
     "output_type": "execute_result"
    }
   ],
   "source": [
    "np.any(np.sum(seq_nan, axis=1), axis=1)"
   ]
  },
  {
   "cell_type": "code",
   "execution_count": 93,
   "id": "d4d4db2c",
   "metadata": {},
   "outputs": [
    {
     "data": {
      "text/plain": [
       "(543, 4500, 11, 48)"
      ]
     },
     "execution_count": 93,
     "metadata": {},
     "output_type": "execute_result"
    }
   ],
   "source": [
    "seqs.shape"
   ]
  },
  {
   "cell_type": "code",
   "execution_count": 95,
   "id": "d6078277",
   "metadata": {},
   "outputs": [
    {
     "data": {
      "text/plain": [
       "(543, 11, 4500, 48)"
      ]
     },
     "execution_count": 95,
     "metadata": {},
     "output_type": "execute_result"
    }
   ],
   "source": [
    "seqs_t = seqs.transpose(0, 2, 1, 3)\n",
    "seqs_t.shape"
   ]
  },
  {
   "cell_type": "code",
   "execution_count": 96,
   "id": "f79150e1",
   "metadata": {},
   "outputs": [],
   "source": [
    "seqs_nan = np.isnan(seqs_t)"
   ]
  },
  {
   "cell_type": "code",
   "execution_count": 97,
   "id": "926e2f27",
   "metadata": {},
   "outputs": [],
   "source": [
    "seq_nan_sum = np.sum(seqs_nan, axis=(-1, -2))"
   ]
  },
  {
   "cell_type": "code",
   "execution_count": 108,
   "id": "e4d91095",
   "metadata": {},
   "outputs": [
    {
     "data": {
      "text/plain": [
       "634"
      ]
     },
     "execution_count": 108,
     "metadata": {},
     "output_type": "execute_result"
    }
   ],
   "source": [
    "np.sum(seq_nan_sum == 4500 * 48)"
   ]
  },
  {
   "cell_type": "code",
   "execution_count": 105,
   "id": "69660339",
   "metadata": {},
   "outputs": [
    {
     "data": {
      "text/plain": [
       "5973"
      ]
     },
     "execution_count": 105,
     "metadata": {},
     "output_type": "execute_result"
    }
   ],
   "source": [
    "np.prod(seq_nan_sum.shape)"
   ]
  },
  {
   "cell_type": "code",
   "execution_count": 115,
   "id": "6f3dc0d4",
   "metadata": {},
   "outputs": [
    {
     "data": {
      "text/plain": [
       "51"
      ]
     },
     "execution_count": 115,
     "metadata": {},
     "output_type": "execute_result"
    }
   ],
   "source": [
    "685 - 634"
   ]
  },
  {
   "cell_type": "code",
   "execution_count": 116,
   "id": "62c145e8",
   "metadata": {},
   "outputs": [
    {
     "data": {
      "text/plain": [
       "0.0804416403785489"
      ]
     },
     "execution_count": 116,
     "metadata": {},
     "output_type": "execute_result"
    }
   ],
   "source": [
    " (685 - 634) / 634"
   ]
  },
  {
   "cell_type": "code",
   "execution_count": 109,
   "id": "4edab15b",
   "metadata": {},
   "outputs": [
    {
     "data": {
      "text/plain": [
       "0.10614431608906746"
      ]
     },
     "execution_count": 109,
     "metadata": {},
     "output_type": "execute_result"
    }
   ],
   "source": [
    "634 / 5973"
   ]
  },
  {
   "cell_type": "code",
   "execution_count": 106,
   "id": "d7f3ff43",
   "metadata": {},
   "outputs": [
    {
     "data": {
      "text/plain": [
       "0.11468273899213126"
      ]
     },
     "execution_count": 106,
     "metadata": {},
     "output_type": "execute_result"
    }
   ],
   "source": [
    "685 / 5973"
   ]
  },
  {
   "cell_type": "code",
   "execution_count": 118,
   "id": "c5a95495",
   "metadata": {},
   "outputs": [],
   "source": [
    "# Verdict: it is ok to remove non-whole missing flies - they are a small amount"
   ]
  },
  {
   "cell_type": "code",
   "execution_count": 117,
   "id": "0141947f",
   "metadata": {},
   "outputs": [],
   "source": [
    "whole_misses = []\n",
    "\n",
    "for i, seq in enumerate(seqs):\n",
    "    seq_nan = np.isnan(seq)\n",
    "    seq_nan = seq_nan.transpose(1, 0, 2)\n",
    "    whole_flie_misses = np.sum(seq_nan, axis=(1, 2))\n",
    "#     print(whole_flie_misses // 48)"
   ]
  },
  {
   "cell_type": "code",
   "execution_count": null,
   "id": "4f8d446f",
   "metadata": {},
   "outputs": [],
   "source": []
  },
  {
   "cell_type": "code",
   "execution_count": 1,
   "id": "48a4e7e2",
   "metadata": {},
   "outputs": [],
   "source": [
    "import torch"
   ]
  },
  {
   "cell_type": "code",
   "execution_count": 2,
   "id": "cacdf958",
   "metadata": {},
   "outputs": [],
   "source": [
    "t = torch.arange(10)"
   ]
  },
  {
   "cell_type": "code",
   "execution_count": 4,
   "id": "0d78a1bb",
   "metadata": {},
   "outputs": [
    {
     "data": {
      "text/plain": [
       "tensor([[0, 1],\n",
       "        [1, 2],\n",
       "        [2, 3],\n",
       "        [3, 4],\n",
       "        [4, 5],\n",
       "        [5, 6],\n",
       "        [6, 7],\n",
       "        [7, 8],\n",
       "        [8, 9]])"
      ]
     },
     "execution_count": 4,
     "metadata": {},
     "output_type": "execute_result"
    }
   ],
   "source": [
    "t.unfold(dimension=0, size=2, step=1)"
   ]
  },
  {
   "cell_type": "code",
   "execution_count": 5,
   "id": "001ced16",
   "metadata": {},
   "outputs": [],
   "source": [
    "from mebe.model import PositionalEncoding"
   ]
  },
  {
   "cell_type": "code",
   "execution_count": 30,
   "id": "be105fa4",
   "metadata": {},
   "outputs": [
    {
     "data": {
      "text/plain": [
       "tensor([[[ 0,  1,  2,  3,  4,  5,  6,  7,  8,  9, 10, 11, 12, 13, 14, 15, 16,\n",
       "          17, 18, 19],\n",
       "         [20, 21, 22, 23, 24, 25, 26, 27, 28, 29, 30, 31, 32, 33, 34, 35, 36,\n",
       "          37, 38, 39]]])"
      ]
     },
     "execution_count": 30,
     "metadata": {},
     "output_type": "execute_result"
    }
   ],
   "source": [
    "inp = torch.arange(40).view(1, 2, 20)\n",
    "inp"
   ]
  },
  {
   "cell_type": "code",
   "execution_count": 36,
   "id": "f6931f4f",
   "metadata": {},
   "outputs": [],
   "source": [
    "pos_enc = PositionalEncoding(d_model=2)"
   ]
  },
  {
   "cell_type": "code",
   "execution_count": 37,
   "id": "a37e0620",
   "metadata": {},
   "outputs": [
    {
     "data": {
      "text/plain": [
       "torch.Size([5000, 1, 2])"
      ]
     },
     "execution_count": 37,
     "metadata": {},
     "output_type": "execute_result"
    }
   ],
   "source": [
    "pos_enc.pe.shape"
   ]
  },
  {
   "cell_type": "code",
   "execution_count": 32,
   "id": "2bad7c4b",
   "metadata": {},
   "outputs": [
    {
     "data": {
      "text/plain": [
       "torch.Size([5000, 1, 20])"
      ]
     },
     "execution_count": 32,
     "metadata": {},
     "output_type": "execute_result"
    }
   ],
   "source": [
    "pos_enc.pe.shape"
   ]
  },
  {
   "cell_type": "code",
   "execution_count": 34,
   "id": "d87f9f6e",
   "metadata": {},
   "outputs": [
    {
     "data": {
      "text/plain": [
       "torch.Size([1, 2, 20])"
      ]
     },
     "execution_count": 34,
     "metadata": {},
     "output_type": "execute_result"
    }
   ],
   "source": [
    "pos_enc(inp).shape"
   ]
  },
  {
   "cell_type": "code",
   "execution_count": null,
   "id": "324d0cea",
   "metadata": {},
   "outputs": [],
   "source": []
  },
  {
   "cell_type": "code",
   "execution_count": null,
   "id": "ecd8b33c",
   "metadata": {},
   "outputs": [],
   "source": []
  }
 ],
 "metadata": {
  "kernelspec": {
   "display_name": "Python 3 (ipykernel)",
   "language": "python",
   "name": "python3"
  },
  "language_info": {
   "codemirror_mode": {
    "name": "ipython",
    "version": 3
   },
   "file_extension": ".py",
   "mimetype": "text/x-python",
   "name": "python",
   "nbconvert_exporter": "python",
   "pygments_lexer": "ipython3",
   "version": "3.9.7"
  }
 },
 "nbformat": 4,
 "nbformat_minor": 5
}
